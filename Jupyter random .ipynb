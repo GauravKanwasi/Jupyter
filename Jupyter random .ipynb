{
 "cells": [
  {
   "cell_type": "code",
   "execution_count": 1,
   "metadata": {},
   "outputs": [],
   "source": [
    "import cv2\n",
    "import numpy as np\n",
    "import tensorflow as tf\n",
    "import matplotlib.pyplot as plt\n"
   ]
  },
  {
   "cell_type": "code",
   "execution_count": null,
   "metadata": {},
   "outputs": [],
   "source": [
    "# Load the pre-trained MobileNetV2 model\n",
    "model = tf.keras.applications.MobileNetV2(weights='imagenet')\n"
   ]
  },
  {
   "cell_type": "code",
   "execution_count": 3,
   "metadata": {},
   "outputs": [],
   "source": [
    "def process_frame(frame):\n",
    "    # Resize the image to match the model input size\n",
    "    image_resized = cv2.resize(frame, (224, 224))\n",
    "    image_rgb = cv2.cvtColor(image_resized, cv2.COLOR_BGR2RGB)\n",
    "    image_array = np.expand_dims(image_rgb, axis=0)\n",
    "    image_array = tf.keras.applications.mobilenet_v2.preprocess_input(image_array)\n",
    "    return image_array\n"
   ]
  },
  {
   "cell_type": "code",
   "execution_count": 4,
   "metadata": {},
   "outputs": [],
   "source": [
    "def predict_class(image_array):\n",
    "    # Make a prediction using the model\n",
    "    preds = model.predict(image_array)\n",
    "    decoded_preds = tf.keras.applications.mobilenet_v2.decode_predictions(preds, top=1)[0]\n",
    "    return decoded_preds[0][1], decoded_preds[0][2]  # class name and probability\n"
   ]
  },
  {
   "cell_type": "code",
   "execution_count": 5,
   "metadata": {},
   "outputs": [],
   "source": [
    "# Initialize the camera feed\n",
    "cap = cv2.VideoCapture(0)\n",
    "\n",
    "while True:\n",
    "    ret, frame = cap.read()\n",
    "    \n",
    "    if not ret:\n",
    "        break\n",
    "\n",
    "    # Process the frame from the camera\n",
    "    image_array = process_frame(frame)\n",
    "    \n",
    "    # Get the class prediction and probability\n",
    "    class_name, probability = predict_class(image_array)\n",
    "    \n",
    "    # Display the class name and probability on the frame\n",
    "    cv2.putText(frame, f'{class_name}: {probability:.2f}', (10, 30), cv2.FONT_HERSHEY_SIMPLEX, 1, (0, 255, 0), 2)\n",
    "\n",
    "    # Display the frame with predictions\n",
    "    cv2.imshow(\"Camera Feed\", frame)\n",
    "\n",
    "    # Exit the loop if the user presses 'q'\n",
    "    if cv2.waitKey(1) & 0xFF == ord('q'):\n",
    "        break\n",
    "\n",
    "# Release the camera and close any open windows\n",
    "cap.release()\n",
    "cv2.destroyAllWindows()\n"
   ]
  },
  {
   "cell_type": "code",
   "execution_count": null,
   "metadata": {},
   "outputs": [],
   "source": [
    "# Generate random data\n",
    "x = np.linspace(0, 10, 100)\n",
    "y = np.sin(x) + np.random.normal(0, 0.5, 100)\n",
    "\n",
    "# Plot the random data\n",
    "plt.plot(x, y, label='Random data with noise')\n",
    "plt.xlabel('X')\n",
    "plt.ylabel('Y')\n",
    "plt.title('Random Data Plot')\n",
    "plt.legend()\n",
    "plt.show()\n"
   ]
  }
 ],
 "metadata": {
  "kernelspec": {
   "display_name": "Python 3",
   "language": "python",
   "name": "python3"
  },
  "language_info": {
   "codemirror_mode": {
    "name": "ipython",
    "version": 3
   },
   "file_extension": ".py",
   "mimetype": "text/x-python",
   "name": "python",
   "nbconvert_exporter": "python",
   "pygments_lexer": "ipython3",
   "version": "3.12.6"
  }
 },
 "nbformat": 4,
 "nbformat_minor": 2
}
