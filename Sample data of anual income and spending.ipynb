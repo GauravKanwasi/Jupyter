{
 "cells": [
  {
   "cell_type": "code",
   "execution_count": null,
   "metadata": {},
   "outputs": [],
   "source": [
    "# Required libraries\n",
    "import pandas as pd\n",
    "import matplotlib.pyplot as plt\n",
    "from sklearn.cluster import KMeans, DBSCAN\n",
    "from sklearn.decomposition import PCA\n",
    "from sklearn.preprocessing import StandardScaler\n"
   ]
  },
  {
   "cell_type": "code",
   "execution_count": null,
   "metadata": {},
   "outputs": [],
   "source": [
    "# Sample dataset: Customer annual income, spending score, and age (Expanded with more data)\n",
    "data = {'AnnualIncome': [15, 16, 17, 18, 19, 20, 22, 25, 30, 35, 40, 45, 50, 60, 65, 70, 75, 80, 85, 90],\n",
    "        'SpendingScore': [39, 81, 6, 77, 40, 76, 94, 5, 82, 56, 44, 33, 62, 27, 10, 15, 99, 60, 72, 20],\n",
    "        'Age': [20, 22, 25, 24, 35, 40, 30, 21, 50, 31, 60, 45, 38, 33, 26, 29, 41, 53, 46, 28]}\n",
    "\n",
    "# Create DataFrame\n",
    "df = pd.DataFrame(data)\n",
    "\n",
    "# Display the first few rows of the dataset\n",
    "df.head()\n"
   ]
  },
  {
   "cell_type": "code",
   "execution_count": null,
   "metadata": {},
   "outputs": [],
   "source": [
    "# Normalize the dataset using StandardScaler\n",
    "scaler = StandardScaler()\n",
    "df_scaled = scaler.fit_transform(df)\n",
    "\n",
    "# Convert the scaled data back into a DataFrame\n",
    "df_scaled = pd.DataFrame(df_scaled, columns=['AnnualIncome', 'SpendingScore', 'Age'])\n",
    "df_scaled.head()\n"
   ]
  },
  {
   "cell_type": "code",
   "execution_count": null,
   "metadata": {},
   "outputs": [],
   "source": [
    "# Apply K-Means clustering with k=3\n",
    "kmeans = KMeans(n_clusters=3, random_state=42)\n",
    "df_scaled['KMeans_Cluster'] = kmeans.fit_predict(df_scaled)\n",
    "\n",
    "# Display cluster assignments\n",
    "df_scaled[['AnnualIncome', 'SpendingScore', 'Age', 'KMeans_Cluster']].head()\n"
   ]
  },
  {
   "cell_type": "code",
   "execution_count": null,
   "metadata": {},
   "outputs": [],
   "source": [
    "# Apply DBSCAN clustering\n",
    "dbscan = DBSCAN(eps=0.5, min_samples=2)\n",
    "df_scaled['DBSCAN_Cluster'] = dbscan.fit_predict(df_scaled)\n",
    "\n",
    "# Display cluster assignments\n",
    "df_scaled[['AnnualIncome', 'SpendingScore', 'Age', 'DBSCAN_Cluster']].head()\n"
   ]
  },
  {
   "cell_type": "code",
   "execution_count": null,
   "metadata": {},
   "outputs": [],
   "source": [
    "# Apply PCA to reduce dimensions from 3 to 2\n",
    "pca = PCA(n_components=2)\n",
    "df_pca = pca.fit_transform(df_scaled)\n",
    "\n",
    "# Convert the PCA result back to a DataFrame for easy handling\n",
    "df_pca = pd.DataFrame(df_pca, columns=['PCA1', 'PCA2'])\n",
    "df_pca.head()\n"
   ]
  },
  {
   "cell_type": "code",
   "execution_count": null,
   "metadata": {},
   "outputs": [],
   "source": [
    "# Plot K-Means clusters with original data\n",
    "plt.figure(figsize=(8, 6))\n",
    "plt.scatter(df_scaled['AnnualIncome'], df_scaled['SpendingScore'], c=df_scaled['KMeans_Cluster'], cmap='viridis')\n",
    "plt.title('K-Means Clustering of Customers')\n",
    "plt.xlabel('Annual Income (in thousands)')\n",
    "plt.ylabel('Spending Score (1-100)')\n",
    "plt.colorbar(label='Cluster')\n",
    "plt.show()\n"
   ]
  },
  {
   "cell_type": "code",
   "execution_count": null,
   "metadata": {},
   "outputs": [],
   "source": [
    "# Plot DBSCAN clusters with original data\n",
    "plt.figure(figsize=(8, 6))\n",
    "plt.scatter(df_scaled['AnnualIncome'], df_scaled['SpendingScore'], c=df_scaled['DBSCAN_Cluster'], cmap='rainbow')\n",
    "plt.title('DBSCAN Clustering of Customers')\n",
    "plt.xlabel('Annual Income (in thousands)')\n",
    "plt.ylabel('Spending Score (1-100)')\n",
    "plt.colorbar(label='Cluster')\n",
    "plt.show()\n"
   ]
  },
  {
   "cell_type": "code",
   "execution_count": null,
   "metadata": {},
   "outputs": [],
   "source": [
    "# Plot PCA components with K-Means clusters\n",
    "plt.figure(figsize=(8, 6))\n",
    "plt.scatter(df_pca['PCA1'], df_pca['PCA2'], c=df_scaled['KMeans_Cluster'], cmap='viridis')\n",
    "plt.title('PCA - Dimensionality Reduction with K-Means Clusters')\n",
    "plt.xlabel('PCA1')\n",
    "plt.ylabel('PCA2')\n",
    "plt.colorbar(label='Cluster')\n",
    "plt.show()\n"
   ]
  },
  {
   "cell_type": "code",
   "execution_count": null,
   "metadata": {},
   "outputs": [],
   "source": [
    "# Plot PCA components with DBSCAN clusters\n",
    "plt.figure(figsize=(8, 6))\n",
    "plt.scatter(df_pca['PCA1'], df_pca['PCA2'], c=df_scaled['DBSCAN_Cluster'], cmap='rainbow')\n",
    "plt.title('PCA - Dimensionality Reduction with DBSCAN Clusters')\n",
    "plt.xlabel('PCA1')\n",
    "plt.ylabel('PCA2')\n",
    "plt.colorbar(label='Cluster')\n",
    "plt.show()\n"
   ]
  }
 ],
 "metadata": {
  "kernelspec": {
   "display_name": "Python 3",
   "language": "python",
   "name": "python3"
  },
  "language_info": {
   "codemirror_mode": {
    "name": "ipython",
    "version": 3
   },
   "file_extension": ".py",
   "mimetype": "text/x-python",
   "name": "python",
   "nbconvert_exporter": "python",
   "pygments_lexer": "ipython3",
   "version": "3.12.6"
  }
 },
 "nbformat": 4,
 "nbformat_minor": 2
}
